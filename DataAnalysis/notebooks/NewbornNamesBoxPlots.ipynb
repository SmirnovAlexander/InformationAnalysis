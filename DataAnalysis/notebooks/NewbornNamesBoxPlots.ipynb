{
 "cells": [
  {
   "cell_type": "markdown",
   "metadata": {},
   "source": [
    "Find data about baby's names born in Moscow in 2015. Draw 3 box plot diagrams for your's and your's parents names. Detect whether there were outliers or not (moderate or extreme for this period)."
   ]
  },
  {
   "cell_type": "markdown",
   "metadata": {},
   "source": [
    "# Importing data "
   ]
  },
  {
   "cell_type": "code",
   "execution_count": 1,
   "metadata": {},
   "outputs": [],
   "source": [
    "import pandas as pd\n",
    "import matplotlib.pyplot as plt\n",
    "import seaborn as sns"
   ]
  },
  {
   "cell_type": "code",
   "execution_count": 2,
   "metadata": {},
   "outputs": [],
   "source": [
    "data = pd.read_csv(\"../data/newborn_male_names_2015_2019.csv\", \n",
    "                   delimiter=\";\", \n",
    "                   encoding='Windows-1251',\n",
    "                   index_col=0)\n",
    "data.drop(data.columns[[-1]], axis=1, inplace=True)"
   ]
  },
  {
   "cell_type": "code",
   "execution_count": 3,
   "metadata": {},
   "outputs": [
    {
     "data": {
      "text/html": [
       "<div>\n",
       "<style scoped>\n",
       "    .dataframe tbody tr th:only-of-type {\n",
       "        vertical-align: middle;\n",
       "    }\n",
       "\n",
       "    .dataframe tbody tr th {\n",
       "        vertical-align: top;\n",
       "    }\n",
       "\n",
       "    .dataframe thead th {\n",
       "        text-align: right;\n",
       "    }\n",
       "</style>\n",
       "<table border=\"1\" class=\"dataframe\">\n",
       "  <thead>\n",
       "    <tr style=\"text-align: right;\">\n",
       "      <th></th>\n",
       "      <th>Name</th>\n",
       "      <th>NumberOfPersons</th>\n",
       "      <th>global_id</th>\n",
       "      <th>Year</th>\n",
       "      <th>Month</th>\n",
       "    </tr>\n",
       "    <tr>\n",
       "      <th>ID</th>\n",
       "      <th></th>\n",
       "      <th></th>\n",
       "      <th></th>\n",
       "      <th></th>\n",
       "      <th></th>\n",
       "    </tr>\n",
       "  </thead>\n",
       "  <tbody>\n",
       "    <tr>\n",
       "      <th>276</th>\n",
       "      <td>Тихон</td>\n",
       "      <td>11</td>\n",
       "      <td>62366509</td>\n",
       "      <td>2015</td>\n",
       "      <td>март</td>\n",
       "    </tr>\n",
       "    <tr>\n",
       "      <th>580</th>\n",
       "      <td>Виталий</td>\n",
       "      <td>12</td>\n",
       "      <td>62366826</td>\n",
       "      <td>2015</td>\n",
       "      <td>июнь</td>\n",
       "    </tr>\n",
       "    <tr>\n",
       "      <th>4214</th>\n",
       "      <td>Марк</td>\n",
       "      <td>105</td>\n",
       "      <td>831262191</td>\n",
       "      <td>2017</td>\n",
       "      <td>октябрь</td>\n",
       "    </tr>\n",
       "    <tr>\n",
       "      <th>2716</th>\n",
       "      <td>Илья</td>\n",
       "      <td>94</td>\n",
       "      <td>423005266</td>\n",
       "      <td>2017</td>\n",
       "      <td>апрель</td>\n",
       "    </tr>\n",
       "    <tr>\n",
       "      <th>217</th>\n",
       "      <td>Никита</td>\n",
       "      <td>97</td>\n",
       "      <td>62366443</td>\n",
       "      <td>2015</td>\n",
       "      <td>март</td>\n",
       "    </tr>\n",
       "  </tbody>\n",
       "</table>\n",
       "</div>"
      ],
      "text/plain": [
       "         Name NumberOfPersons  global_id  Year    Month\n",
       "ID                                                     \n",
       "276     Тихон              11   62366509  2015     март\n",
       "580   Виталий              12   62366826  2015     июнь\n",
       "4214     Марк             105  831262191  2017  октябрь\n",
       "2716     Илья              94  423005266  2017   апрель\n",
       "217    Никита              97   62366443  2015     март"
      ]
     },
     "metadata": {},
     "output_type": "display_data"
    }
   ],
   "source": [
    "display(data.sample(5))"
   ]
  },
  {
   "cell_type": "code",
   "execution_count": 4,
   "metadata": {},
   "outputs": [],
   "source": [
    "data = data[data[\"NumberOfPersons\"].apply((lambda x: x.isnumeric()))]\n",
    "data = data.astype({'NumberOfPersons': 'int32'})"
   ]
  },
  {
   "cell_type": "code",
   "execution_count": 5,
   "metadata": {},
   "outputs": [
    {
     "data": {
      "text/plain": [
       "Name               object\n",
       "NumberOfPersons     int32\n",
       "global_id          object\n",
       "Year               object\n",
       "Month              object\n",
       "dtype: object"
      ]
     },
     "metadata": {},
     "output_type": "display_data"
    }
   ],
   "source": [
    "display(data.dtypes)"
   ]
  },
  {
   "cell_type": "code",
   "execution_count": 6,
   "metadata": {},
   "outputs": [
    {
     "name": "stdout",
     "output_type": "stream",
     "text": [
      "Number of lines: 4500\n"
     ]
    }
   ],
   "source": [
    "print(\"Number of lines: {}\".format(len(data)))"
   ]
  },
  {
   "cell_type": "markdown",
   "metadata": {},
   "source": [
    "# Visualizing data "
   ]
  },
  {
   "cell_type": "code",
   "execution_count": 7,
   "metadata": {},
   "outputs": [
    {
     "data": {
      "image/png": "[encoded data removed]",
      "text/plain": [
       "<Figure size 720x360 with 1 Axes>"
      ]
     },
     "metadata": {
      "needs_background": "light"
     },
     "output_type": "display_data"
    }
   ],
   "source": [
    "plt.figure(figsize=(10, 5))\n",
    "sns.boxplot(x=\"Name\", y=\"NumberOfPersons\", order=[\"Александр\", \"Лев\", \"Марк\", \"Максим\", \"Вячеслав\"] , data=data)\n",
    "plt.show()"
   ]
  },
  {
   "cell_type": "markdown",
   "metadata": {},
   "source": [
    "Moderate outliers are distanted below from first quartile or up from third quartile from 1,5 IQR (interquartile range) to 3 IQR. Extreme outliers distanted below from first quartile or up from third quartile for more than 1,5 IQR.\n",
    "\n",
    "All outliers are moderate."
   ]
  }
 ],
 "metadata": {
  "hide_input": false,
  "kernelspec": {
   "display_name": "Python 3",
   "language": "python",
   "name": "python3"
  },
  "language_info": {
   "codemirror_mode": {
    "name": "ipython",
    "version": 3
   },
   "file_extension": ".py",
   "mimetype": "text/x-python",
   "name": "python",
   "nbconvert_exporter": "python",
   "pygments_lexer": "ipython3",
   "version": "3.7.4"
  },
  "toc": {
   "base_numbering": 1,
   "nav_menu": {},
   "number_sections": true,
   "sideBar": true,
   "skip_h1_title": false,
   "title_cell": "Table of Contents",
   "title_sidebar": "Contents",
   "toc_cell": false,
   "toc_position": {
    "height": "calc(100% - 180px)",
    "left": "10px",
    "top": "150px",
    "width": "384px"
   },
   "toc_section_display": true,
   "toc_window_display": true
  }
 },
 "nbformat": 4,
 "nbformat_minor": 2
}

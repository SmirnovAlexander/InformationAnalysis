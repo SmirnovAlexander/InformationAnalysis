{
 "cells": [
  {
   "cell_type": "markdown",
   "metadata": {},
   "source": [
    "Make social survey and visualize it's results."
   ]
  },
  {
   "cell_type": "markdown",
   "metadata": {},
   "source": [
    "# Importing data "
   ]
  },
  {
   "cell_type": "code",
   "execution_count": 1,
   "metadata": {},
   "outputs": [],
   "source": [
    "import pandas as pd\n",
    "import matplotlib.pyplot as plt\n",
    "\n",
    "%matplotlib inline"
   ]
  },
  {
   "cell_type": "code",
   "execution_count": 2,
   "metadata": {},
   "outputs": [],
   "source": [
    "data = pd.read_csv('../data/plant_data.csv',\n",
    "                   sep=',',\n",
    "                   parse_dates=['Отметка времени'], \n",
    "                   dayfirst=True,\n",
    "                   index_col='Отметка времени')"
   ]
  },
  {
   "cell_type": "code",
   "execution_count": 3,
   "metadata": {
    "scrolled": true
   },
   "outputs": [
    {
     "data": {
      "text/html": [
       "<div>\n",
       "<style scoped>\n",
       "    .dataframe tbody tr th:only-of-type {\n",
       "        vertical-align: middle;\n",
       "    }\n",
       "\n",
       "    .dataframe tbody tr th {\n",
       "        vertical-align: top;\n",
       "    }\n",
       "\n",
       "    .dataframe thead th {\n",
       "        text-align: right;\n",
       "    }\n",
       "</style>\n",
       "<table border=\"1\" class=\"dataframe\">\n",
       "  <thead>\n",
       "    <tr style=\"text-align: right;\">\n",
       "      <th></th>\n",
       "      <th>Я:</th>\n",
       "      <th>Возраст:</th>\n",
       "      <th>Есть ли у Вас комнатные растения?</th>\n",
       "      <th>Хотели бы Вы купить комнатное растение?</th>\n",
       "      <th>Хочу купить растение, почему?</th>\n",
       "      <th>Не хочу покупать растение, почему?</th>\n",
       "      <th>А может кактус? Прикольно выглядит, ухаживать не нужно</th>\n",
       "      <th>Сколько бы Вы максимум потратили на растение?</th>\n",
       "    </tr>\n",
       "    <tr>\n",
       "      <th>Отметка времени</th>\n",
       "      <th></th>\n",
       "      <th></th>\n",
       "      <th></th>\n",
       "      <th></th>\n",
       "      <th></th>\n",
       "      <th></th>\n",
       "      <th></th>\n",
       "      <th></th>\n",
       "    </tr>\n",
       "  </thead>\n",
       "  <tbody>\n",
       "    <tr>\n",
       "      <th>2018-03-29 18:11:39-03:00</th>\n",
       "      <td>Мужчина</td>\n",
       "      <td>18-23</td>\n",
       "      <td>Нет</td>\n",
       "      <td>Нет</td>\n",
       "      <td>NaN</td>\n",
       "      <td>Не интересно</td>\n",
       "      <td>NaN</td>\n",
       "      <td>NaN</td>\n",
       "    </tr>\n",
       "    <tr>\n",
       "      <th>2018-03-29 17:53:22-03:00</th>\n",
       "      <td>Мужчина</td>\n",
       "      <td>18-23</td>\n",
       "      <td>Нет</td>\n",
       "      <td>Да</td>\n",
       "      <td>Поставлю себе на стол, буду любоваться и поливать</td>\n",
       "      <td>NaN</td>\n",
       "      <td>NaN</td>\n",
       "      <td>400-600</td>\n",
       "    </tr>\n",
       "    <tr>\n",
       "      <th>2018-03-29 17:54:41-03:00</th>\n",
       "      <td>Женщина</td>\n",
       "      <td>38-45</td>\n",
       "      <td>Да</td>\n",
       "      <td>Нет</td>\n",
       "      <td>NaN</td>\n",
       "      <td>Не интересно</td>\n",
       "      <td>NaN</td>\n",
       "      <td>NaN</td>\n",
       "    </tr>\n",
       "    <tr>\n",
       "      <th>2018-03-29 17:34:13-03:00</th>\n",
       "      <td>Мужчина</td>\n",
       "      <td>16-17</td>\n",
       "      <td>Да</td>\n",
       "      <td>Нет</td>\n",
       "      <td>NaN</td>\n",
       "      <td>Не интересно</td>\n",
       "      <td>NaN</td>\n",
       "      <td>NaN</td>\n",
       "    </tr>\n",
       "    <tr>\n",
       "      <th>2018-03-29 19:01:39-03:00</th>\n",
       "      <td>Мужчина</td>\n",
       "      <td>18-23</td>\n",
       "      <td>Да</td>\n",
       "      <td>Нет</td>\n",
       "      <td>NaN</td>\n",
       "      <td>Их и так много</td>\n",
       "      <td>NaN</td>\n",
       "      <td>NaN</td>\n",
       "    </tr>\n",
       "  </tbody>\n",
       "</table>\n",
       "</div>"
      ],
      "text/plain": [
       "                                Я: Возраст: Есть ли у Вас комнатные растения?  \\\n",
       "Отметка времени                                                                 \n",
       "2018-03-29 18:11:39-03:00  Мужчина    18-23                               Нет   \n",
       "2018-03-29 17:53:22-03:00  Мужчина    18-23                               Нет   \n",
       "2018-03-29 17:54:41-03:00  Женщина    38-45                                Да   \n",
       "2018-03-29 17:34:13-03:00  Мужчина    16-17                                Да   \n",
       "2018-03-29 19:01:39-03:00  Мужчина    18-23                                Да   \n",
       "\n",
       "                          Хотели бы Вы купить комнатное растение?  \\\n",
       "Отметка времени                                                     \n",
       "2018-03-29 18:11:39-03:00                                     Нет   \n",
       "2018-03-29 17:53:22-03:00                                      Да   \n",
       "2018-03-29 17:54:41-03:00                                     Нет   \n",
       "2018-03-29 17:34:13-03:00                                     Нет   \n",
       "2018-03-29 19:01:39-03:00                                     Нет   \n",
       "\n",
       "                                               Хочу купить растение, почему?  \\\n",
       "Отметка времени                                                                \n",
       "2018-03-29 18:11:39-03:00                                                NaN   \n",
       "2018-03-29 17:53:22-03:00  Поставлю себе на стол, буду любоваться и поливать   \n",
       "2018-03-29 17:54:41-03:00                                                NaN   \n",
       "2018-03-29 17:34:13-03:00                                                NaN   \n",
       "2018-03-29 19:01:39-03:00                                                NaN   \n",
       "\n",
       "                          Не хочу покупать растение, почему?  \\\n",
       "Отметка времени                                                \n",
       "2018-03-29 18:11:39-03:00                       Не интересно   \n",
       "2018-03-29 17:53:22-03:00                                NaN   \n",
       "2018-03-29 17:54:41-03:00                       Не интересно   \n",
       "2018-03-29 17:34:13-03:00                       Не интересно   \n",
       "2018-03-29 19:01:39-03:00                     Их и так много   \n",
       "\n",
       "                          А может кактус? Прикольно выглядит, ухаживать не нужно  \\\n",
       "Отметка времени                                                                    \n",
       "2018-03-29 18:11:39-03:00                                                NaN       \n",
       "2018-03-29 17:53:22-03:00                                                NaN       \n",
       "2018-03-29 17:54:41-03:00                                                NaN       \n",
       "2018-03-29 17:34:13-03:00                                                NaN       \n",
       "2018-03-29 19:01:39-03:00                                                NaN       \n",
       "\n",
       "                          Сколько бы Вы максимум потратили на растение?  \n",
       "Отметка времени                                                          \n",
       "2018-03-29 18:11:39-03:00                                           NaN  \n",
       "2018-03-29 17:53:22-03:00                                       400-600  \n",
       "2018-03-29 17:54:41-03:00                                           NaN  \n",
       "2018-03-29 17:34:13-03:00                                           NaN  \n",
       "2018-03-29 19:01:39-03:00                                           NaN  "
      ]
     },
     "metadata": {},
     "output_type": "display_data"
    }
   ],
   "source": [
    "display(data.sample(5))"
   ]
  },
  {
   "cell_type": "code",
   "execution_count": 4,
   "metadata": {},
   "outputs": [
    {
     "name": "stdout",
     "output_type": "stream",
     "text": [
      "Number of samples: 152\n"
     ]
    }
   ],
   "source": [
    "print(\"Number of samples: {}\".format(len(data)))"
   ]
  },
  {
   "cell_type": "markdown",
   "metadata": {},
   "source": [
    "# Visualizing data "
   ]
  },
  {
   "cell_type": "code",
   "execution_count": 5,
   "metadata": {},
   "outputs": [
    {
     "data": {
      "text/plain": [
       "Text(0.5, 1.0, 'Sex distribution')"
      ]
     },
     "execution_count": 5,
     "metadata": {},
     "output_type": "execute_result"
    },
    {
     "data": {
      "image/png": "[encoded data removed]",
      "text/plain": [
       "<Figure size 432x288 with 1 Axes>"
      ]
     },
     "metadata": {
      "needs_background": "light"
     },
     "output_type": "display_data"
    }
   ],
   "source": [
    "plt.hist(data[\"Я:\"])\n",
    "plt.title(\"Sex distribution\")"
   ]
  },
  {
   "cell_type": "code",
   "execution_count": 6,
   "metadata": {},
   "outputs": [
    {
     "data": {
      "text/plain": [
       "Text(0.5, 1.0, 'Age distribution')"
      ]
     },
     "execution_count": 6,
     "metadata": {},
     "output_type": "execute_result"
    },
    {
     "data": {
      "image/png": "[encoded data removed]",
      "text/plain": [
       "<Figure size 432x288 with 1 Axes>"
      ]
     },
     "metadata": {
      "needs_background": "light"
     },
     "output_type": "display_data"
    }
   ],
   "source": [
    "plt.hist(data[\"Возраст:\"])\n",
    "plt.title(\"Age distribution\")"
   ]
  },
  {
   "cell_type": "code",
   "execution_count": 7,
   "metadata": {},
   "outputs": [
    {
     "data": {
      "text/plain": [
       "<matplotlib.axes._subplots.AxesSubplot at 0x7fd41dc284d0>"
      ]
     },
     "execution_count": 7,
     "metadata": {},
     "output_type": "execute_result"
    },
    {
     "data": {
      "image/png": "[encoded data removed]",
      "text/plain": [
       "<Figure size 504x504 with 1 Axes>"
      ]
     },
     "metadata": {},
     "output_type": "display_data"
    }
   ],
   "source": [
    "data['Есть ли у Вас комнатные растения?'].value_counts().plot(kind='pie', autopct='%1.0f%%', figsize=(7,7))"
   ]
  },
  {
   "cell_type": "code",
   "execution_count": 8,
   "metadata": {
    "slideshow": {
     "slide_type": "-"
    }
   },
   "outputs": [
    {
     "data": {
      "text/plain": [
       "<matplotlib.axes._subplots.AxesSubplot at 0x7fd41dba4350>"
      ]
     },
     "execution_count": 8,
     "metadata": {},
     "output_type": "execute_result"
    },
    {
     "data": {
      "image/png": "[encoded data removed]",
      "text/plain": [
       "<Figure size 504x504 with 1 Axes>"
      ]
     },
     "metadata": {},
     "output_type": "display_data"
    }
   ],
   "source": [
    "data['Сколько бы Вы максимум потратили на растение?'].value_counts().plot(kind='pie', autopct='%1.0f%%', figsize=(7,7))"
   ]
  }
 ],
 "metadata": {
  "hide_input": false,
  "kernelspec": {
   "display_name": "Python 3",
   "language": "python",
   "name": "python3"
  },
  "language_info": {
   "codemirror_mode": {
    "name": "ipython",
    "version": 3
   },
   "file_extension": ".py",
   "mimetype": "text/x-python",
   "name": "python",
   "nbconvert_exporter": "python",
   "pygments_lexer": "ipython3",
   "version": "3.7.4"
  },
  "toc": {
   "base_numbering": 1,
   "nav_menu": {},
   "number_sections": true,
   "sideBar": true,
   "skip_h1_title": false,
   "title_cell": "Table of Contents",
   "title_sidebar": "Contents",
   "toc_cell": false,
   "toc_position": {
    "height": "calc(100% - 180px)",
    "left": "10px",
    "top": "150px",
    "width": "384px"
   },
   "toc_section_display": true,
   "toc_window_display": true
  }
 },
 "nbformat": 4,
 "nbformat_minor": 2
}

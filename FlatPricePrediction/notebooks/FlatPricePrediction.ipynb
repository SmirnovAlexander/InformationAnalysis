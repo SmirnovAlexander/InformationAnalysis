{
 "cells": [
  {
   "cell_type": "markdown",
   "metadata": {},
   "source": [
    "Build 3 models for flat price prediction:\n",
    "    \n",
    "- Price based on square meters number\n",
    "- Price based on subway distance\n",
    "- Price based on both square meters number and subway distance\n",
    "\n",
    "For 1st and 2nd models draw both train data and predicted outputs. Compare real results with model outputs using all metrics from slides."
   ]
  },
  {
   "cell_type": "markdown",
   "metadata": {},
   "source": [
    "# Importing data "
   ]
  },
  {
   "cell_type": "code",
   "execution_count": 1,
   "metadata": {},
   "outputs": [],
   "source": [
    "import numpy as np\n",
    "import pandas as pd\n",
    "import matplotlib.pyplot as plt\n",
    "import random\n",
    "\n",
    "from sklearn.utils import shuffle\n",
    "from sklearn.metrics import mean_absolute_error, mean_squared_error, r2_score\n",
    "\n",
    "plt.style.use(\"seaborn\")"
   ]
  },
  {
   "cell_type": "code",
   "execution_count": 2,
   "metadata": {},
   "outputs": [
    {
     "data": {
      "text/html": [
       "<div>\n",
       "<style scoped>\n",
       "    .dataframe tbody tr th:only-of-type {\n",
       "        vertical-align: middle;\n",
       "    }\n",
       "\n",
       "    .dataframe tbody tr th {\n",
       "        vertical-align: top;\n",
       "    }\n",
       "\n",
       "    .dataframe thead th {\n",
       "        text-align: right;\n",
       "    }\n",
       "</style>\n",
       "<table border=\"1\" class=\"dataframe\">\n",
       "  <thead>\n",
       "    <tr style=\"text-align: right;\">\n",
       "      <th></th>\n",
       "      <th>SQUARE_METERS</th>\n",
       "      <th>METRO_DISTANCE</th>\n",
       "      <th>PRICE</th>\n",
       "    </tr>\n",
       "    <tr>\n",
       "      <th>Id</th>\n",
       "      <th></th>\n",
       "      <th></th>\n",
       "      <th></th>\n",
       "    </tr>\n",
       "  </thead>\n",
       "  <tbody>\n",
       "    <tr>\n",
       "      <th>601</th>\n",
       "      <td>28</td>\n",
       "      <td>677</td>\n",
       "      <td>7328400</td>\n",
       "    </tr>\n",
       "    <tr>\n",
       "      <th>602</th>\n",
       "      <td>54</td>\n",
       "      <td>120</td>\n",
       "      <td>9754600</td>\n",
       "    </tr>\n",
       "    <tr>\n",
       "      <th>603</th>\n",
       "      <td>43</td>\n",
       "      <td>1344</td>\n",
       "      <td>6781500</td>\n",
       "    </tr>\n",
       "    <tr>\n",
       "      <th>604</th>\n",
       "      <td>33</td>\n",
       "      <td>1003</td>\n",
       "      <td>6784100</td>\n",
       "    </tr>\n",
       "    <tr>\n",
       "      <th>605</th>\n",
       "      <td>30</td>\n",
       "      <td>591</td>\n",
       "      <td>7296200</td>\n",
       "    </tr>\n",
       "    <tr>\n",
       "      <th>...</th>\n",
       "      <td>...</td>\n",
       "      <td>...</td>\n",
       "      <td>...</td>\n",
       "    </tr>\n",
       "    <tr>\n",
       "      <th>696</th>\n",
       "      <td>28</td>\n",
       "      <td>2073</td>\n",
       "      <td>4826700</td>\n",
       "    </tr>\n",
       "    <tr>\n",
       "      <th>697</th>\n",
       "      <td>63</td>\n",
       "      <td>2120</td>\n",
       "      <td>6800800</td>\n",
       "    </tr>\n",
       "    <tr>\n",
       "      <th>698</th>\n",
       "      <td>33</td>\n",
       "      <td>1411</td>\n",
       "      <td>6517500</td>\n",
       "    </tr>\n",
       "    <tr>\n",
       "      <th>699</th>\n",
       "      <td>47</td>\n",
       "      <td>1715</td>\n",
       "      <td>6812100</td>\n",
       "    </tr>\n",
       "    <tr>\n",
       "      <th>700</th>\n",
       "      <td>31</td>\n",
       "      <td>1785</td>\n",
       "      <td>5583200</td>\n",
       "    </tr>\n",
       "  </tbody>\n",
       "</table>\n",
       "<p>100 rows × 3 columns</p>\n",
       "</div>"
      ],
      "text/plain": [
       "     SQUARE_METERS  METRO_DISTANCE    PRICE\n",
       "Id                                         \n",
       "601             28             677  7328400\n",
       "602             54             120  9754600\n",
       "603             43            1344  6781500\n",
       "604             33            1003  6784100\n",
       "605             30             591  7296200\n",
       "..             ...             ...      ...\n",
       "696             28            2073  4826700\n",
       "697             63            2120  6800800\n",
       "698             33            1411  6517500\n",
       "699             47            1715  6812100\n",
       "700             31            1785  5583200\n",
       "\n",
       "[100 rows x 3 columns]"
      ]
     },
     "metadata": {},
     "output_type": "display_data"
    }
   ],
   "source": [
    "data = pd.read_excel(\"../data/flat_prices.xlsx\", index_col=\"Id\")\n",
    "display(data)"
   ]
  },
  {
   "cell_type": "markdown",
   "metadata": {},
   "source": [
    "# Theory "
   ]
  },
  {
   "cell_type": "markdown",
   "metadata": {},
   "source": [
    "Suppose we have $n$ instances of data with $m$ parameters and $n$ answers. The task is to build a linear function $f(x)$ that minimizes \n",
    "$$S=\\sum _{i=1}^{n}({y_{i}-f(x_{i})})^{2}$$\n",
    "This is called [least squares method](https://en.wikipedia.org/wiki/Least_squares).\n",
    "\n",
    "So we have to find coefficents $\\theta_i$ of $f(x) = \\theta_0 + \\theta_1x_1 + \\ldots + \\theta_mx_m$.\n",
    "\n",
    "To do so, we should initialize matrix $n \\times (m + 1)$:\n",
    "$$X = \n",
    "\\begin{pmatrix}\n",
    "x_{11} & x_{12} & \\cdots & x_{1m} & 1\\\\\n",
    "x_{21} & x_{22} & \\cdots & x_{2m} & 1\\\\\n",
    "\\vdots & \\vdots & \\ddots & \\vdots & \\vdots\\\\\n",
    "x_{n1} & x_{n2} & \\cdots & x_{nm} & 1\n",
    "\\end{pmatrix}\n",
    "$$\n",
    "Also we have vector of answers:\n",
    "$$Y = \n",
    "\\begin{pmatrix}\n",
    "y_1\\\\\n",
    "y_2\\\\\n",
    "\\vdots\\\\\n",
    "y_n\n",
    "\\end{pmatrix}\n",
    "$$\n",
    "\n",
    "Vector of coefficents:\n",
    "$$\\Theta = \n",
    "\\begin{pmatrix}\n",
    "\\theta_1\\\\\n",
    "\\theta_2\\\\\n",
    "\\vdots\\\\\n",
    "\\theta_{m-1}\\\\\n",
    "\\theta_0\\\\\n",
    "\\end{pmatrix}\n",
    "$$\n",
    "\n",
    "The least squre function will have minimum when\n",
    "$$\\Theta=(X^{T}X)^{{-1}}X^{T}Y$$\n",
    "\n"
   ]
  },
  {
   "cell_type": "markdown",
   "metadata": {},
   "source": [
    "# Common parts "
   ]
  },
  {
   "cell_type": "markdown",
   "metadata": {},
   "source": [
    "## Measure metrics"
   ]
  },
  {
   "cell_type": "markdown",
   "metadata": {},
   "source": [
    "Below listed realization of metrics given in slides."
   ]
  },
  {
   "cell_type": "code",
   "execution_count": 3,
   "metadata": {},
   "outputs": [],
   "source": [
    "def squared_error(y_true, y_pred):    \n",
    "    return np.sum(np.square(y_true - y_pred))\n",
    "\n",
    "def mean_absolute_error(y_true, y_pred):\n",
    "    return np.mean(np.abs(y_true - y_pred))\n",
    "\n",
    "def mean_squared_error(y_true, y_pred):    \n",
    "    return np.mean(np.square(y_true - y_pred))\n",
    "\n",
    "def mean_percentage_error(y_true, y_pred): \n",
    "    return np.mean((y_true - y_pred) / y_true) * 100\n",
    "\n",
    "def mean_absolute_percentage_error(y_true, y_pred): \n",
    "    return np.mean(np.abs((y_true - y_pred) / y_true)) * 100\n",
    "\n",
    "def absolute_deviation(y_true, y_pred):      \n",
    "    return np.sum(np.abs(y_pred - y_true))\n",
    "\n",
    "def mean_absolute_deviation(y_true, y_pred):      \n",
    "    return np.mean(np.abs(y_pred - y_true))\n",
    "\n",
    "def coefficient_of_determination(y_true, y_pred):\n",
    "    y_true_mean = np.mean(y_true)\n",
    "    return 1 - squared_error(y_true, y_pred)/squared_error(y_true, y_true_mean)\n",
    "\n",
    "def tayle(y_true, y_pred):\n",
    "    return np.sqrt(squared_error(y_true, y_pred)/(np.sum(np.square(y_true)) + np.sum(np.square(y_pred))))"
   ]
  },
  {
   "cell_type": "code",
   "execution_count": 4,
   "metadata": {},
   "outputs": [],
   "source": [
    "def quality_measure(y_true, y_pred):\n",
    "    \"\"\"Printing results of quality measurement with different metrics.\n",
    "    \"\"\"\n",
    "    print(\"Squared error: {:.2f}\".format(squared_error(y_true, y_pred)))\n",
    "    print(\"Mean absolute error: {:.2f}\".format(mean_absolute_error(y_true, y_pred)))\n",
    "    print(\"Mean squared error: {:.2f}\".format(mean_squared_error(y_true, y_pred)))\n",
    "    print(\"Mean percentage error: {:.2f}\".format(mean_percentage_error(y_true, y_pred)))\n",
    "    print(\"Mean absolute percentage error: {:.2f}\".format(mean_absolute_percentage_error(y_true, y_pred)))\n",
    "    print(\"Absolute deviation: {:.2f}\".format(absolute_deviation(y_true, y_pred)))\n",
    "    print(\"Mean absolute deviation: {:.2f}\".format(mean_absolute_deviation(y_true, y_pred)))\n",
    "    print(\"Coefficent of determination: {:.2f}\".format(coefficient_of_determination(y_true, y_pred)))\n",
    "    print(\"Tayle: {:.2f}\".format(tayle(y_true, y_pred)))    "
   ]
  },
  {
   "cell_type": "markdown",
   "metadata": {},
   "source": [
    "## Regression computation "
   ]
  },
  {
   "cell_type": "code",
   "execution_count": 5,
   "metadata": {},
   "outputs": [],
   "source": [
    "def linear_regression(X, Y):\n",
    "    \"\"\"Counting Theta (model coefficents).\n",
    "    \"\"\"\n",
    "    return np.dot(np.dot(np.linalg.inv(np.dot(X.T, X)), X.T), Y.T)"
   ]
  },
  {
   "cell_type": "code",
   "execution_count": 6,
   "metadata": {},
   "outputs": [],
   "source": [
    "def linear_model(x, Theta):\n",
    "    \"\"\"Counting value in sample with parameters x and coefficents Theta.\n",
    "    \"\"\"\n",
    "    predictions = []\n",
    "    for row in x:\n",
    "        predictions.append(np.dot(row, Theta[:-1]) + Theta[-1])            \n",
    "    return predictions"
   ]
  },
  {
   "cell_type": "markdown",
   "metadata": {},
   "source": [
    "# Price based on square meters number "
   ]
  },
  {
   "cell_type": "markdown",
   "metadata": {},
   "source": [
    "## Loading data "
   ]
  },
  {
   "cell_type": "code",
   "execution_count": 7,
   "metadata": {
    "scrolled": true
   },
   "outputs": [
    {
     "data": {
      "text/html": [
       "<div>\n",
       "<style scoped>\n",
       "    .dataframe tbody tr th:only-of-type {\n",
       "        vertical-align: middle;\n",
       "    }\n",
       "\n",
       "    .dataframe tbody tr th {\n",
       "        vertical-align: top;\n",
       "    }\n",
       "\n",
       "    .dataframe thead th {\n",
       "        text-align: right;\n",
       "    }\n",
       "</style>\n",
       "<table border=\"1\" class=\"dataframe\">\n",
       "  <thead>\n",
       "    <tr style=\"text-align: right;\">\n",
       "      <th></th>\n",
       "      <th>SQUARE_METERS</th>\n",
       "      <th>PRICE</th>\n",
       "    </tr>\n",
       "    <tr>\n",
       "      <th>Id</th>\n",
       "      <th></th>\n",
       "      <th></th>\n",
       "    </tr>\n",
       "  </thead>\n",
       "  <tbody>\n",
       "    <tr>\n",
       "      <th>601</th>\n",
       "      <td>28</td>\n",
       "      <td>7328400</td>\n",
       "    </tr>\n",
       "    <tr>\n",
       "      <th>602</th>\n",
       "      <td>54</td>\n",
       "      <td>9754600</td>\n",
       "    </tr>\n",
       "    <tr>\n",
       "      <th>603</th>\n",
       "      <td>43</td>\n",
       "      <td>6781500</td>\n",
       "    </tr>\n",
       "    <tr>\n",
       "      <th>604</th>\n",
       "      <td>33</td>\n",
       "      <td>6784100</td>\n",
       "    </tr>\n",
       "    <tr>\n",
       "      <th>605</th>\n",
       "      <td>30</td>\n",
       "      <td>7296200</td>\n",
       "    </tr>\n",
       "    <tr>\n",
       "      <th>...</th>\n",
       "      <td>...</td>\n",
       "      <td>...</td>\n",
       "    </tr>\n",
       "    <tr>\n",
       "      <th>696</th>\n",
       "      <td>28</td>\n",
       "      <td>4826700</td>\n",
       "    </tr>\n",
       "    <tr>\n",
       "      <th>697</th>\n",
       "      <td>63</td>\n",
       "      <td>6800800</td>\n",
       "    </tr>\n",
       "    <tr>\n",
       "      <th>698</th>\n",
       "      <td>33</td>\n",
       "      <td>6517500</td>\n",
       "    </tr>\n",
       "    <tr>\n",
       "      <th>699</th>\n",
       "      <td>47</td>\n",
       "      <td>6812100</td>\n",
       "    </tr>\n",
       "    <tr>\n",
       "      <th>700</th>\n",
       "      <td>31</td>\n",
       "      <td>5583200</td>\n",
       "    </tr>\n",
       "  </tbody>\n",
       "</table>\n",
       "<p>100 rows × 2 columns</p>\n",
       "</div>"
      ],
      "text/plain": [
       "     SQUARE_METERS    PRICE\n",
       "Id                         \n",
       "601             28  7328400\n",
       "602             54  9754600\n",
       "603             43  6781500\n",
       "604             33  6784100\n",
       "605             30  7296200\n",
       "..             ...      ...\n",
       "696             28  4826700\n",
       "697             63  6800800\n",
       "698             33  6517500\n",
       "699             47  6812100\n",
       "700             31  5583200\n",
       "\n",
       "[100 rows x 2 columns]"
      ]
     },
     "metadata": {},
     "output_type": "display_data"
    }
   ],
   "source": [
    "meters_price = data.drop(columns=[\"METRO_DISTANCE\"])\n",
    "display(meters_price)"
   ]
  },
  {
   "cell_type": "code",
   "execution_count": 8,
   "metadata": {},
   "outputs": [],
   "source": [
    "# Extracting values and predictions.\n",
    "X = np.array(meters_price[\"SQUARE_METERS\"],)\n",
    "Y = np.array(meters_price[\"PRICE\"])"
   ]
  },
  {
   "cell_type": "code",
   "execution_count": 9,
   "metadata": {},
   "outputs": [
    {
     "data": {
      "image/png": "[encoded data removed]",
      "text/plain": [
       "<Figure size 1080x576 with 1 Axes>"
      ]
     },
     "metadata": {
      "needs_background": "light"
     },
     "output_type": "display_data"
    }
   ],
   "source": [
    "# Building plot.\n",
    "plt.figure(figsize=(15,8))\n",
    "\n",
    "plt.plot(X, Y, \"bo\")\n",
    "plt.xlabel(\"Square meters\")\n",
    "plt.ylabel(\"Price\")\n",
    "\n",
    "plt.title(\"Data observation\")\n",
    "\n",
    "plt.show()"
   ]
  },
  {
   "cell_type": "markdown",
   "metadata": {},
   "source": [
    "## Splitting data "
   ]
  },
  {
   "cell_type": "code",
   "execution_count": 10,
   "metadata": {},
   "outputs": [],
   "source": [
    "# Simultaniously shuffling samples.\n",
    "X, Y = shuffle(X, Y)"
   ]
  },
  {
   "cell_type": "code",
   "execution_count": 11,
   "metadata": {},
   "outputs": [],
   "source": [
    "# How many samples for testing.\n",
    "split_mark = 0.3\n",
    "\n",
    "# Position we are splitting our data.\n",
    "split_at = round(len(X) * split_mark)\n",
    "\n",
    "X_test = X[:split_at]\n",
    "X = X[split_at:]\n",
    "\n",
    "Y_test = Y[:split_at]\n",
    "Y = Y[split_at:]"
   ]
  },
  {
   "cell_type": "code",
   "execution_count": 12,
   "metadata": {
    "scrolled": false
   },
   "outputs": [
    {
     "data": {
      "image/png": "[encoded data removed]",
      "text/plain": [
       "<Figure size 1080x576 with 1 Axes>"
      ]
     },
     "metadata": {
      "needs_background": "light"
     },
     "output_type": "display_data"
    }
   ],
   "source": [
    "# Building plot.\n",
    "plt.figure(figsize=(15,8))\n",
    "\n",
    "plt.plot(X, Y, \"bo\", label=\"Train samples\")\n",
    "plt.plot(X_test, Y_test, \"ro\", label=\"Test samples\")\n",
    "plt.xlabel(\"Square meters\")\n",
    "plt.ylabel(\"Price\")\n",
    "\n",
    "plt.title(\"Train and test samples observation\")\n",
    "plt.legend(loc=\"upper left\")\n",
    "\n",
    "plt.show()"
   ]
  },
  {
   "cell_type": "markdown",
   "metadata": {},
   "source": [
    "## Linear regression model "
   ]
  },
  {
   "cell_type": "code",
   "execution_count": 13,
   "metadata": {},
   "outputs": [
    {
     "name": "stdout",
     "output_type": "stream",
     "text": [
      "X = \n",
      "[[57.  1.]\n",
      " [33.  1.]\n",
      " [33.  1.]\n",
      " [39.  1.]\n",
      " [49.  1.]]\n",
      "\n",
      "Theta (counted manually) = \n",
      "[  72917.85059312 3746841.49546162]\n",
      "\n",
      "Theta (counted using numpy) = \n",
      "[  72917.85059312 3746841.49546162]\n",
      "\n",
      "Test labels and predictions = \n",
      "[(array([64]), 8413583.933421556), (array([35]), 6298966.26622096), (array([62]), 8267748.232235307), (array([36]), 6371884.116814084), (array([35]), 6298966.26622096)]\n"
     ]
    }
   ],
   "source": [
    "# Reshaping vector to column.\n",
    "X = X.reshape(len(X), 1)\n",
    "X_test = X_test.reshape(len(X_test), 1)\n",
    "\n",
    "# Initializing ones column.\n",
    "ones = np.ones(len(X)).reshape(len(X), 1)\n",
    "\n",
    "# Merging train column with ones column.\n",
    "X_matrix = np.hstack([X, ones])\n",
    "print(\"X = \\n{}\\n\".format(X_matrix[:5]))\n",
    "\n",
    "# Counting and confirming Theta.\n",
    "Theta = linear_regression(X_matrix, Y)\n",
    "Theta_confirmation = np.linalg.lstsq(X_matrix, Y, rcond=None)[0]\n",
    "print(\"Theta (counted manually) = \\n{}\\n\".format(Theta))\n",
    "print(\"Theta (counted using numpy) = \\n{}\\n\".format(Theta_confirmation))\n",
    "\n",
    "# Making predictions on test samples.\n",
    "Y_predictions = linear_model(X_test, Theta)\n",
    "print(\"Test labels and predictions = \\n{}\".format(list(zip(X_test[:5], Y_predictions[:5]))))"
   ]
  },
  {
   "cell_type": "code",
   "execution_count": 14,
   "metadata": {},
   "outputs": [
    {
     "data": {
      "image/png": "[encoded data removed]",
      "text/plain": [
       "<Figure size 1080x576 with 1 Axes>"
      ]
     },
     "metadata": {
      "needs_background": "light"
     },
     "output_type": "display_data"
    }
   ],
   "source": [
    "# Building plot.\n",
    "plt.figure(figsize=(15,8))\n",
    "\n",
    "plt.plot(X_test, Y_test, \"ro\", label=\"Test samples\")\n",
    "plt.plot(X_test, Y_predictions, \"b\", label=\"Prediction on test samples\")\n",
    "plt.xlabel(\"Square meters\")\n",
    "plt.ylabel(\"Price\")\n",
    "\n",
    "plt.title(\"Predictions on test data\")\n",
    "plt.legend(loc=\"upper left\")\n",
    "\n",
    "plt.show()"
   ]
  },
  {
   "cell_type": "code",
   "execution_count": 15,
   "metadata": {
    "scrolled": true
   },
   "outputs": [
    {
     "name": "stdout",
     "output_type": "stream",
     "text": [
      "Squared error: 33377954689301.92\n",
      "Mean absolute error: 901134.30\n",
      "Mean squared error: 1112598489643.40\n",
      "Mean percentage error: 4.43\n",
      "Mean absolute percentage error: 12.74\n",
      "Absolute deviation: 27034029.06\n",
      "Mean absolute deviation: 901134.30\n",
      "Coefficent of determination: -0.10\n",
      "Tayle: 0.11\n"
     ]
    }
   ],
   "source": [
    "quality_measure(Y_test, Y_predictions)"
   ]
  },
  {
   "cell_type": "markdown",
   "metadata": {},
   "source": [
    "# Price based on subway distance"
   ]
  },
  {
   "cell_type": "markdown",
   "metadata": {},
   "source": [
    "## Loading data "
   ]
  },
  {
   "cell_type": "code",
   "execution_count": 16,
   "metadata": {
    "scrolled": true
   },
   "outputs": [
    {
     "data": {
      "text/html": [
       "<div>\n",
       "<style scoped>\n",
       "    .dataframe tbody tr th:only-of-type {\n",
       "        vertical-align: middle;\n",
       "    }\n",
       "\n",
       "    .dataframe tbody tr th {\n",
       "        vertical-align: top;\n",
       "    }\n",
       "\n",
       "    .dataframe thead th {\n",
       "        text-align: right;\n",
       "    }\n",
       "</style>\n",
       "<table border=\"1\" class=\"dataframe\">\n",
       "  <thead>\n",
       "    <tr style=\"text-align: right;\">\n",
       "      <th></th>\n",
       "      <th>METRO_DISTANCE</th>\n",
       "      <th>PRICE</th>\n",
       "    </tr>\n",
       "    <tr>\n",
       "      <th>Id</th>\n",
       "      <th></th>\n",
       "      <th></th>\n",
       "    </tr>\n",
       "  </thead>\n",
       "  <tbody>\n",
       "    <tr>\n",
       "      <th>601</th>\n",
       "      <td>677</td>\n",
       "      <td>7328400</td>\n",
       "    </tr>\n",
       "    <tr>\n",
       "      <th>602</th>\n",
       "      <td>120</td>\n",
       "      <td>9754600</td>\n",
       "    </tr>\n",
       "    <tr>\n",
       "      <th>603</th>\n",
       "      <td>1344</td>\n",
       "      <td>6781500</td>\n",
       "    </tr>\n",
       "    <tr>\n",
       "      <th>604</th>\n",
       "      <td>1003</td>\n",
       "      <td>6784100</td>\n",
       "    </tr>\n",
       "    <tr>\n",
       "      <th>605</th>\n",
       "      <td>591</td>\n",
       "      <td>7296200</td>\n",
       "    </tr>\n",
       "    <tr>\n",
       "      <th>...</th>\n",
       "      <td>...</td>\n",
       "      <td>...</td>\n",
       "    </tr>\n",
       "    <tr>\n",
       "      <th>696</th>\n",
       "      <td>2073</td>\n",
       "      <td>4826700</td>\n",
       "    </tr>\n",
       "    <tr>\n",
       "      <th>697</th>\n",
       "      <td>2120</td>\n",
       "      <td>6800800</td>\n",
       "    </tr>\n",
       "    <tr>\n",
       "      <th>698</th>\n",
       "      <td>1411</td>\n",
       "      <td>6517500</td>\n",
       "    </tr>\n",
       "    <tr>\n",
       "      <th>699</th>\n",
       "      <td>1715</td>\n",
       "      <td>6812100</td>\n",
       "    </tr>\n",
       "    <tr>\n",
       "      <th>700</th>\n",
       "      <td>1785</td>\n",
       "      <td>5583200</td>\n",
       "    </tr>\n",
       "  </tbody>\n",
       "</table>\n",
       "<p>100 rows × 2 columns</p>\n",
       "</div>"
      ],
      "text/plain": [
       "     METRO_DISTANCE    PRICE\n",
       "Id                          \n",
       "601             677  7328400\n",
       "602             120  9754600\n",
       "603            1344  6781500\n",
       "604            1003  6784100\n",
       "605             591  7296200\n",
       "..              ...      ...\n",
       "696            2073  4826700\n",
       "697            2120  6800800\n",
       "698            1411  6517500\n",
       "699            1715  6812100\n",
       "700            1785  5583200\n",
       "\n",
       "[100 rows x 2 columns]"
      ]
     },
     "metadata": {},
     "output_type": "display_data"
    }
   ],
   "source": [
    "meters_price = data.drop(columns=[\"SQUARE_METERS\"])\n",
    "display(meters_price)"
   ]
  },
  {
   "cell_type": "code",
   "execution_count": 17,
   "metadata": {},
   "outputs": [],
   "source": [
    "# Extracting values and predictions.\n",
    "X = np.array(meters_price[\"METRO_DISTANCE\"],)\n",
    "Y = np.array(meters_price[\"PRICE\"])"
   ]
  },
  {
   "cell_type": "code",
   "execution_count": 18,
   "metadata": {},
   "outputs": [
    {
     "data": {
      "image/png": "[encoded data removed]",
      "text/plain": [
       "<Figure size 1080x576 with 1 Axes>"
      ]
     },
     "metadata": {
      "needs_background": "light"
     },
     "output_type": "display_data"
    }
   ],
   "source": [
    "# Building plot.\n",
    "plt.figure(figsize=(15,8))\n",
    "\n",
    "plt.plot(X, Y, \"bo\")\n",
    "plt.xlabel(\"Subway distance\")\n",
    "plt.ylabel(\"Price\")\n",
    "\n",
    "plt.title(\"Data observation\")\n",
    "\n",
    "plt.show()"
   ]
  },
  {
   "cell_type": "markdown",
   "metadata": {},
   "source": [
    "## Splitting data "
   ]
  },
  {
   "cell_type": "code",
   "execution_count": 19,
   "metadata": {},
   "outputs": [],
   "source": [
    "# Simultaniously shuffling samples.\n",
    "X, Y = shuffle(X, Y)"
   ]
  },
  {
   "cell_type": "code",
   "execution_count": 20,
   "metadata": {},
   "outputs": [],
   "source": [
    "# How many samples for testing.\n",
    "split_mark = 0.3\n",
    "\n",
    "# Position we are splitting our data.\n",
    "split_at = round(len(X) * split_mark)\n",
    "\n",
    "X_test = X[:split_at]\n",
    "X = X[split_at:]\n",
    "\n",
    "Y_test = Y[:split_at]\n",
    "Y = Y[split_at:]"
   ]
  },
  {
   "cell_type": "code",
   "execution_count": 21,
   "metadata": {
    "scrolled": false
   },
   "outputs": [
    {
     "data": {
      "image/png": "[encoded data removed]",
      "text/plain": [
       "<Figure size 1080x576 with 1 Axes>"
      ]
     },
     "metadata": {
      "needs_background": "light"
     },
     "output_type": "display_data"
    }
   ],
   "source": [
    "# Building plot.\n",
    "plt.figure(figsize=(15,8))\n",
    "\n",
    "plt.plot(X, Y, \"bo\", label=\"Train samples\")\n",
    "plt.plot(X_test, Y_test, \"ro\", label=\"Test samples\")\n",
    "plt.xlabel(\"Subway distance\")\n",
    "plt.ylabel(\"Price\")\n",
    "\n",
    "plt.title(\"Train and test samples observation\")\n",
    "plt.legend(loc=\"upper left\")\n",
    "\n",
    "plt.show()"
   ]
  },
  {
   "cell_type": "markdown",
   "metadata": {},
   "source": [
    "## Linear regression model "
   ]
  },
  {
   "cell_type": "code",
   "execution_count": 22,
   "metadata": {},
   "outputs": [
    {
     "name": "stdout",
     "output_type": "stream",
     "text": [
      "X = \n",
      "[[1.026e+03 1.000e+00]\n",
      " [7.190e+02 1.000e+00]\n",
      " [1.133e+03 1.000e+00]\n",
      " [5.930e+02 1.000e+00]\n",
      " [8.420e+02 1.000e+00]]\n",
      "\n",
      "Theta (counted manually) = \n",
      "[-1.73246457e+03  9.04993336e+06]\n",
      "\n",
      "Theta (counted using numpy) = \n",
      "[-1.73246457e+03  9.04993336e+06]\n",
      "\n",
      "Test labels and predictions = \n",
      "[(array([1527]), 6404459.966220453), (array([406]), 8346552.747751596), (array([686]), 7861462.66851099), (array([393]), 8369074.787144911), (array([863]), 7554816.439848178)]\n"
     ]
    }
   ],
   "source": [
    "# Reshaping vector to column.\n",
    "X = X.reshape(len(X), 1)\n",
    "X_test = X_test.reshape(len(X_test), 1)\n",
    "\n",
    "# Initializing ones column.\n",
    "ones = np.ones(len(X)).reshape(len(X), 1)\n",
    "\n",
    "# Merging train column with ones column.\n",
    "X_matrix = np.hstack([X, ones])\n",
    "print(\"X = \\n{}\\n\".format(X_matrix[:5]))\n",
    "\n",
    "# Counting and confirming Theta.\n",
    "Theta = linear_regression(X_matrix, Y)\n",
    "Theta_confirmation = np.linalg.lstsq(X_matrix, Y, rcond=None)[0]\n",
    "print(\"Theta (counted manually) = \\n{}\\n\".format(Theta))\n",
    "print(\"Theta (counted using numpy) = \\n{}\\n\".format(Theta_confirmation))\n",
    "\n",
    "# Making predictions on test samples.\n",
    "Y_predictions = linear_model(X_test, Theta)\n",
    "print(\"Test labels and predictions = \\n{}\".format(list(zip(X_test[:5], Y_predictions[:5]))))"
   ]
  },
  {
   "cell_type": "code",
   "execution_count": 23,
   "metadata": {},
   "outputs": [
    {
     "data": {
      "image/png": "[encoded data removed]",
      "text/plain": [
       "<Figure size 1080x576 with 1 Axes>"
      ]
     },
     "metadata": {
      "needs_background": "light"
     },
     "output_type": "display_data"
    }
   ],
   "source": [
    "# Building plot.\n",
    "plt.figure(figsize=(15,8))\n",
    "\n",
    "plt.plot(X_test, Y_test, \"ro\", label=\"Test samples\")\n",
    "plt.plot(X_test, Y_predictions, \"b\", label=\"Prediction on test samples\")\n",
    "plt.xlabel(\"Subway distance\")\n",
    "plt.ylabel(\"Price\")\n",
    "\n",
    "plt.title(\"Predictions on test data\")\n",
    "plt.legend(loc=\"upper left\")\n",
    "\n",
    "plt.show()"
   ]
  },
  {
   "cell_type": "code",
   "execution_count": 24,
   "metadata": {
    "scrolled": true
   },
   "outputs": [
    {
     "name": "stdout",
     "output_type": "stream",
     "text": [
      "Squared error: 32714336775354.55\n",
      "Mean absolute error: 920108.17\n",
      "Mean squared error: 1090477892511.82\n",
      "Mean percentage error: -1.04\n",
      "Mean absolute percentage error: 13.90\n",
      "Absolute deviation: 27603245.19\n",
      "Mean absolute deviation: 920108.17\n",
      "Coefficent of determination: 0.48\n",
      "Tayle: 0.10\n"
     ]
    }
   ],
   "source": [
    "quality_measure(Y_test, Y_predictions)"
   ]
  },
  {
   "cell_type": "markdown",
   "metadata": {},
   "source": [
    "# Price based on both square meters number and subway distance "
   ]
  },
  {
   "cell_type": "markdown",
   "metadata": {},
   "source": [
    "## Loading data "
   ]
  },
  {
   "cell_type": "code",
   "execution_count": 25,
   "metadata": {},
   "outputs": [
    {
     "data": {
      "text/html": [
       "<div>\n",
       "<style scoped>\n",
       "    .dataframe tbody tr th:only-of-type {\n",
       "        vertical-align: middle;\n",
       "    }\n",
       "\n",
       "    .dataframe tbody tr th {\n",
       "        vertical-align: top;\n",
       "    }\n",
       "\n",
       "    .dataframe thead th {\n",
       "        text-align: right;\n",
       "    }\n",
       "</style>\n",
       "<table border=\"1\" class=\"dataframe\">\n",
       "  <thead>\n",
       "    <tr style=\"text-align: right;\">\n",
       "      <th></th>\n",
       "      <th>SQUARE_METERS</th>\n",
       "      <th>METRO_DISTANCE</th>\n",
       "      <th>PRICE</th>\n",
       "    </tr>\n",
       "    <tr>\n",
       "      <th>Id</th>\n",
       "      <th></th>\n",
       "      <th></th>\n",
       "      <th></th>\n",
       "    </tr>\n",
       "  </thead>\n",
       "  <tbody>\n",
       "    <tr>\n",
       "      <th>601</th>\n",
       "      <td>28</td>\n",
       "      <td>677</td>\n",
       "      <td>7328400</td>\n",
       "    </tr>\n",
       "    <tr>\n",
       "      <th>602</th>\n",
       "      <td>54</td>\n",
       "      <td>120</td>\n",
       "      <td>9754600</td>\n",
       "    </tr>\n",
       "    <tr>\n",
       "      <th>603</th>\n",
       "      <td>43</td>\n",
       "      <td>1344</td>\n",
       "      <td>6781500</td>\n",
       "    </tr>\n",
       "    <tr>\n",
       "      <th>604</th>\n",
       "      <td>33</td>\n",
       "      <td>1003</td>\n",
       "      <td>6784100</td>\n",
       "    </tr>\n",
       "    <tr>\n",
       "      <th>605</th>\n",
       "      <td>30</td>\n",
       "      <td>591</td>\n",
       "      <td>7296200</td>\n",
       "    </tr>\n",
       "    <tr>\n",
       "      <th>...</th>\n",
       "      <td>...</td>\n",
       "      <td>...</td>\n",
       "      <td>...</td>\n",
       "    </tr>\n",
       "    <tr>\n",
       "      <th>696</th>\n",
       "      <td>28</td>\n",
       "      <td>2073</td>\n",
       "      <td>4826700</td>\n",
       "    </tr>\n",
       "    <tr>\n",
       "      <th>697</th>\n",
       "      <td>63</td>\n",
       "      <td>2120</td>\n",
       "      <td>6800800</td>\n",
       "    </tr>\n",
       "    <tr>\n",
       "      <th>698</th>\n",
       "      <td>33</td>\n",
       "      <td>1411</td>\n",
       "      <td>6517500</td>\n",
       "    </tr>\n",
       "    <tr>\n",
       "      <th>699</th>\n",
       "      <td>47</td>\n",
       "      <td>1715</td>\n",
       "      <td>6812100</td>\n",
       "    </tr>\n",
       "    <tr>\n",
       "      <th>700</th>\n",
       "      <td>31</td>\n",
       "      <td>1785</td>\n",
       "      <td>5583200</td>\n",
       "    </tr>\n",
       "  </tbody>\n",
       "</table>\n",
       "<p>100 rows × 3 columns</p>\n",
       "</div>"
      ],
      "text/plain": [
       "     SQUARE_METERS  METRO_DISTANCE    PRICE\n",
       "Id                                         \n",
       "601             28             677  7328400\n",
       "602             54             120  9754600\n",
       "603             43            1344  6781500\n",
       "604             33            1003  6784100\n",
       "605             30             591  7296200\n",
       "..             ...             ...      ...\n",
       "696             28            2073  4826700\n",
       "697             63            2120  6800800\n",
       "698             33            1411  6517500\n",
       "699             47            1715  6812100\n",
       "700             31            1785  5583200\n",
       "\n",
       "[100 rows x 3 columns]"
      ]
     },
     "metadata": {},
     "output_type": "display_data"
    }
   ],
   "source": [
    "display(data)"
   ]
  },
  {
   "cell_type": "code",
   "execution_count": 26,
   "metadata": {},
   "outputs": [],
   "source": [
    "# Extracting values and predictions.\n",
    "X_1 = np.array(data[\"SQUARE_METERS\"])\n",
    "X_2 = np.array(data[\"METRO_DISTANCE\"])\n",
    "Y = np.array(data[\"PRICE\"])"
   ]
  },
  {
   "cell_type": "code",
   "execution_count": 27,
   "metadata": {},
   "outputs": [
    {
     "data": {
      "image/png": "[encoded data removed]",
      "text/plain": [
       "<Figure size 1080x1080 with 2 Axes>"
      ]
     },
     "metadata": {
      "needs_background": "light"
     },
     "output_type": "display_data"
    }
   ],
   "source": [
    "# Building plot.\n",
    "\n",
    "fig, ax = plt.subplots(2, 1, figsize=(15, 15))\n",
    "\n",
    "ax[0].plot(X_1, Y, \"bo\")\n",
    "ax[0].set(xlabel='Square meters', ylabel='Price')\n",
    "\n",
    "ax[1].plot(X_2, Y, \"bo\")\n",
    "ax[1].set(xlabel='Metro distance', ylabel='Price')\n",
    "\n",
    "fig.suptitle(\"Data observation\", fontsize=16)\n",
    "\n",
    "plt.show()"
   ]
  },
  {
   "cell_type": "markdown",
   "metadata": {},
   "source": [
    "## Splitting data "
   ]
  },
  {
   "cell_type": "code",
   "execution_count": 28,
   "metadata": {},
   "outputs": [],
   "source": [
    "# Simultaniously shuffling samples.\n",
    "X_1, X_2, Y = shuffle(X_1, X_2, Y)"
   ]
  },
  {
   "cell_type": "code",
   "execution_count": 29,
   "metadata": {},
   "outputs": [],
   "source": [
    "# How many samples for testing.\n",
    "split_mark = 0.3\n",
    "\n",
    "# Position we are splitting our data.\n",
    "split_at = round(len(X_1) * split_mark)\n",
    "\n",
    "X_1_test = X_1[:split_at]\n",
    "X_1 = X_1[split_at:]\n",
    "\n",
    "X_2_test = X_2[:split_at]\n",
    "X_2 = X_2[split_at:]\n",
    "\n",
    "Y_test = Y[:split_at]\n",
    "Y = Y[split_at:]"
   ]
  },
  {
   "cell_type": "code",
   "execution_count": 30,
   "metadata": {
    "scrolled": false
   },
   "outputs": [
    {
     "data": {
      "image/png": "[encoded data removed]",
      "text/plain": [
       "<Figure size 1080x1080 with 2 Axes>"
      ]
     },
     "metadata": {
      "needs_background": "light"
     },
     "output_type": "display_data"
    }
   ],
   "source": [
    "# Building plot.\n",
    "\n",
    "fig, ax = plt.subplots(2, 1, figsize=(15, 15))\n",
    "\n",
    "ax[0].plot(X_1, Y, \"bo\", label=\"Train samples\")\n",
    "ax[0].plot(X_1_test, Y_test, \"ro\", label=\"Test samples\")\n",
    "ax[0].set(xlabel='Square meters', ylabel='Price')\n",
    "ax[0].legend(loc=\"upper left\")\n",
    "\n",
    "ax[1].plot(X_2, Y, \"bo\", label=\"Train samples\")\n",
    "ax[1].plot(X_2_test, Y_test, \"ro\", label=\"Test samples\")\n",
    "ax[1].set(xlabel='Metro distance', ylabel='Price')\n",
    "ax[1].legend(loc=\"upper right\")\n",
    "\n",
    "fig.suptitle(\"Train and test samples observation\", fontsize=16)\n",
    "\n",
    "plt.show()"
   ]
  },
  {
   "cell_type": "markdown",
   "metadata": {},
   "source": [
    "## Linear regression model "
   ]
  },
  {
   "cell_type": "code",
   "execution_count": 31,
   "metadata": {
    "scrolled": true
   },
   "outputs": [
    {
     "name": "stdout",
     "output_type": "stream",
     "text": [
      "X = \n",
      "[[3.50e+01 5.50e+02 1.00e+00]\n",
      " [5.60e+01 3.90e+02 1.00e+00]\n",
      " [4.00e+01 3.44e+02 1.00e+00]\n",
      " [1.50e+01 5.93e+02 1.00e+00]\n",
      " [1.90e+01 2.44e+03 1.00e+00]]\n",
      "\n",
      "Theta (counted manually) = \n",
      "[ 5.73696803e+04 -1.58852312e+03  6.50643765e+06]\n",
      "\n",
      "Theta (counted using numpy) = \n",
      "[ 5.73696803e+04 -1.58852312e+03  6.50643765e+06]\n",
      "\n",
      "Test labels and predictions = \n",
      "[(array([ 30, 820]), 6924939.094176039), (array([  13, 2298]), 3601817.3505063355), (array([ 56, 109]), 9545990.723667402), (array([ 28, 677]), 7037358.5404534135), (array([ 12, 856]), 5835098.016376052)]\n"
     ]
    }
   ],
   "source": [
    "# Initialining matrixes.\n",
    "X_matrix = np.array([X_1, X_2]).T\n",
    "X_test_matrix = np.array([X_1_test, X_2_test]).T\n",
    "\n",
    "# Initializing ones column.\n",
    "ones = np.ones(len(X_1)).reshape(70, 1)\n",
    "\n",
    "# Merging train matrix with ones vector.\n",
    "X_matrix = np.hstack([X_matrix, ones])\n",
    "print(\"X = \\n{}\\n\".format(X_matrix[:5]))\n",
    "\n",
    "# Counting and confirming Theta.\n",
    "Theta = linear_regression(X_matrix, Y)\n",
    "Theta_confirmation = np.linalg.lstsq(X_matrix, Y, rcond=None)[0]\n",
    "print(\"Theta (counted manually) = \\n{}\\n\".format(Theta))\n",
    "print(\"Theta (counted using numpy) = \\n{}\\n\".format(Theta_confirmation))\n",
    "\n",
    "# Making predictions on test samples.\n",
    "Y_predictions = linear_model(X_test_matrix, Theta)\n",
    "print(\"Test labels and predictions = \\n{}\".format(list(zip(X_test_matrix[:5], Y_predictions[:5]))))"
   ]
  },
  {
   "cell_type": "code",
   "execution_count": 32,
   "metadata": {
    "scrolled": false
   },
   "outputs": [
    {
     "data": {
      "image/png": "[encoded data removed]",
      "text/plain": [
       "<Figure size 1080x576 with 1 Axes>"
      ]
     },
     "metadata": {
      "needs_background": "light"
     },
     "output_type": "display_data"
    }
   ],
   "source": [
    "# Building plot.\n",
    "plt.figure(figsize=(15,8))\n",
    "\n",
    "plt.plot(Y_predictions, Y_test, \"ro\", label=\"Actual values of test samples\")\n",
    "plt.plot(Y_predictions, Y_predictions, \"b\", label=\"Predicted values for test samples\")\n",
    "plt.xlabel(\"Predicted value\")\n",
    "plt.ylabel(\"Actual value\")\n",
    "plt.legend(loc=\"upper left\")\n",
    "\n",
    "plt.title(\"Predictions on test data\")\n",
    "\n",
    "plt.show()"
   ]
  },
  {
   "cell_type": "code",
   "execution_count": 33,
   "metadata": {},
   "outputs": [
    {
     "name": "stdout",
     "output_type": "stream",
     "text": [
      "Squared error: 1984960433383.21\n",
      "Mean absolute error: 216479.23\n",
      "Mean squared error: 66165347779.44\n",
      "Mean percentage error: 0.62\n",
      "Mean absolute percentage error: 3.03\n",
      "Absolute deviation: 6494377.01\n",
      "Mean absolute deviation: 216479.23\n",
      "Coefficent of determination: 0.98\n",
      "Tayle: 0.02\n"
     ]
    }
   ],
   "source": [
    "quality_measure(Y_test, Y_predictions)"
   ]
  }
 ],
 "metadata": {
  "hide_input": false,
  "kernelspec": {
   "display_name": "Python 3",
   "language": "python",
   "name": "python3"
  },
  "language_info": {
   "codemirror_mode": {
    "name": "ipython",
    "version": 3
   },
   "file_extension": ".py",
   "mimetype": "text/x-python",
   "name": "python",
   "nbconvert_exporter": "python",
   "pygments_lexer": "ipython3",
   "version": "3.7.4"
  },
  "toc": {
   "base_numbering": 1,
   "nav_menu": {},
   "number_sections": true,
   "sideBar": true,
   "skip_h1_title": false,
   "title_cell": "Table of Contents",
   "title_sidebar": "Contents",
   "toc_cell": false,
   "toc_position": {
    "height": "calc(100% - 180px)",
    "left": "10px",
    "top": "150px",
    "width": "384px"
   },
   "toc_section_display": true,
   "toc_window_display": true
  }
 },
 "nbformat": 4,
 "nbformat_minor": 2
}
